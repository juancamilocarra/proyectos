{
  "nbformat": 4,
  "nbformat_minor": 0,
  "metadata": {
    "colab": {
      "name": "Parcial corte 2.ipynb",
      "provenance": [],
      "collapsed_sections": []
    },
    "kernelspec": {
      "name": "python3",
      "display_name": "Python 3"
    },
    "language_info": {
      "name": "python"
    }
  },
  "cells": [
    {
      "cell_type": "markdown",
      "source": [
        "#solucion parcial corte 2\n",
        "## Juan Camilo Carranza Barrios\n",
        "### Economia circular y valoracion ambiental\n",
        "#### 2292847"
      ],
      "metadata": {
        "id": "vAyKSvKFsyf7"
      }
    },
    {
      "cell_type": "code",
      "execution_count": null,
      "metadata": {
        "id": "VFCrNhA8jSJf"
      },
      "outputs": [],
      "source": [
        "import pandas as pd\n",
        "import numpy as np\n",
        "import matplotlib.pyplot as plt\n",
        "import seaborn as sns\n",
        "import statsmodels.api as sm\n"
      ]
    },
    {
      "cell_type": "code",
      "source": [
        "df = pd.read_csv(\"recdemand.csv\")"
      ],
      "metadata": {
        "id": "NNyIaq3cjYeS"
      },
      "execution_count": null,
      "outputs": []
    },
    {
      "cell_type": "code",
      "source": [
        "df.info()"
      ],
      "metadata": {
        "colab": {
          "base_uri": "https://localhost:8080/"
        },
        "id": "r7Rdzg5ojcyJ",
        "outputId": "e37a6d10-550b-4b4e-dbb9-f07b8c055b40"
      },
      "execution_count": null,
      "outputs": [
        {
          "output_type": "stream",
          "name": "stdout",
          "text": [
            "<class 'pandas.core.frame.DataFrame'>\n",
            "RangeIndex: 659 entries, 0 to 658\n",
            "Data columns (total 8 columns):\n",
            " #   Column   Non-Null Count  Dtype  \n",
            "---  ------   --------------  -----  \n",
            " 0   trips    659 non-null    int64  \n",
            " 1   quality  659 non-null    int64  \n",
            " 2   ski      659 non-null    object \n",
            " 3   income   659 non-null    int64  \n",
            " 4   userfee  659 non-null    object \n",
            " 5   costC    659 non-null    float64\n",
            " 6   costS    659 non-null    float64\n",
            " 7   costH    659 non-null    float64\n",
            "dtypes: float64(3), int64(3), object(2)\n",
            "memory usage: 41.3+ KB\n"
          ]
        }
      ]
    },
    {
      "cell_type": "code",
      "source": [
        "df=df[[\"trips\",\"quality\",\"ski\",\"income\",\"userfee\",\"costC\",\"costS\",\"costH\"]]"
      ],
      "metadata": {
        "id": "rl2ff-h2jfYo"
      },
      "execution_count": null,
      "outputs": []
    },
    {
      "cell_type": "code",
      "source": [
        "df"
      ],
      "metadata": {
        "colab": {
          "base_uri": "https://localhost:8080/",
          "height": 424
        },
        "id": "3qibBPZojiJw",
        "outputId": "694915fb-4ac9-4a69-aee9-5d7da2658c8b"
      },
      "execution_count": null,
      "outputs": [
        {
          "output_type": "execute_result",
          "data": {
            "text/plain": [
              "     trips  quality  ski  income userfee  costC   costS   costH\n",
              "0        0        0  yes       4      no  67.59  68.620  76.800\n",
              "1        0        0   no       9      no  68.86  70.936  84.780\n",
              "2        0        0  yes       5      no  58.12  59.465  72.110\n",
              "3        0        0   no       2      no  15.79  13.750  23.680\n",
              "4        0        0  yes       3      no  24.02  34.033  34.547\n",
              "..     ...      ...  ...     ...     ...    ...     ...     ...\n",
              "654     40        5  yes       5     yes  25.63  18.916  29.684\n",
              "655     40        3  yes       3      no  18.46  13.330  25.800\n",
              "656     40        2  yes       4      no  58.84  47.000  62.760\n",
              "657     50        4  yes       4      no  35.67  25.694  37.269\n",
              "658     88        2   no       2      no  22.49   6.210  25.460\n",
              "\n",
              "[659 rows x 8 columns]"
            ],
            "text/html": [
              "\n",
              "  <div id=\"df-15c16c6c-7101-4821-b347-b9f5419049b3\">\n",
              "    <div class=\"colab-df-container\">\n",
              "      <div>\n",
              "<style scoped>\n",
              "    .dataframe tbody tr th:only-of-type {\n",
              "        vertical-align: middle;\n",
              "    }\n",
              "\n",
              "    .dataframe tbody tr th {\n",
              "        vertical-align: top;\n",
              "    }\n",
              "\n",
              "    .dataframe thead th {\n",
              "        text-align: right;\n",
              "    }\n",
              "</style>\n",
              "<table border=\"1\" class=\"dataframe\">\n",
              "  <thead>\n",
              "    <tr style=\"text-align: right;\">\n",
              "      <th></th>\n",
              "      <th>trips</th>\n",
              "      <th>quality</th>\n",
              "      <th>ski</th>\n",
              "      <th>income</th>\n",
              "      <th>userfee</th>\n",
              "      <th>costC</th>\n",
              "      <th>costS</th>\n",
              "      <th>costH</th>\n",
              "    </tr>\n",
              "  </thead>\n",
              "  <tbody>\n",
              "    <tr>\n",
              "      <th>0</th>\n",
              "      <td>0</td>\n",
              "      <td>0</td>\n",
              "      <td>yes</td>\n",
              "      <td>4</td>\n",
              "      <td>no</td>\n",
              "      <td>67.59</td>\n",
              "      <td>68.620</td>\n",
              "      <td>76.800</td>\n",
              "    </tr>\n",
              "    <tr>\n",
              "      <th>1</th>\n",
              "      <td>0</td>\n",
              "      <td>0</td>\n",
              "      <td>no</td>\n",
              "      <td>9</td>\n",
              "      <td>no</td>\n",
              "      <td>68.86</td>\n",
              "      <td>70.936</td>\n",
              "      <td>84.780</td>\n",
              "    </tr>\n",
              "    <tr>\n",
              "      <th>2</th>\n",
              "      <td>0</td>\n",
              "      <td>0</td>\n",
              "      <td>yes</td>\n",
              "      <td>5</td>\n",
              "      <td>no</td>\n",
              "      <td>58.12</td>\n",
              "      <td>59.465</td>\n",
              "      <td>72.110</td>\n",
              "    </tr>\n",
              "    <tr>\n",
              "      <th>3</th>\n",
              "      <td>0</td>\n",
              "      <td>0</td>\n",
              "      <td>no</td>\n",
              "      <td>2</td>\n",
              "      <td>no</td>\n",
              "      <td>15.79</td>\n",
              "      <td>13.750</td>\n",
              "      <td>23.680</td>\n",
              "    </tr>\n",
              "    <tr>\n",
              "      <th>4</th>\n",
              "      <td>0</td>\n",
              "      <td>0</td>\n",
              "      <td>yes</td>\n",
              "      <td>3</td>\n",
              "      <td>no</td>\n",
              "      <td>24.02</td>\n",
              "      <td>34.033</td>\n",
              "      <td>34.547</td>\n",
              "    </tr>\n",
              "    <tr>\n",
              "      <th>...</th>\n",
              "      <td>...</td>\n",
              "      <td>...</td>\n",
              "      <td>...</td>\n",
              "      <td>...</td>\n",
              "      <td>...</td>\n",
              "      <td>...</td>\n",
              "      <td>...</td>\n",
              "      <td>...</td>\n",
              "    </tr>\n",
              "    <tr>\n",
              "      <th>654</th>\n",
              "      <td>40</td>\n",
              "      <td>5</td>\n",
              "      <td>yes</td>\n",
              "      <td>5</td>\n",
              "      <td>yes</td>\n",
              "      <td>25.63</td>\n",
              "      <td>18.916</td>\n",
              "      <td>29.684</td>\n",
              "    </tr>\n",
              "    <tr>\n",
              "      <th>655</th>\n",
              "      <td>40</td>\n",
              "      <td>3</td>\n",
              "      <td>yes</td>\n",
              "      <td>3</td>\n",
              "      <td>no</td>\n",
              "      <td>18.46</td>\n",
              "      <td>13.330</td>\n",
              "      <td>25.800</td>\n",
              "    </tr>\n",
              "    <tr>\n",
              "      <th>656</th>\n",
              "      <td>40</td>\n",
              "      <td>2</td>\n",
              "      <td>yes</td>\n",
              "      <td>4</td>\n",
              "      <td>no</td>\n",
              "      <td>58.84</td>\n",
              "      <td>47.000</td>\n",
              "      <td>62.760</td>\n",
              "    </tr>\n",
              "    <tr>\n",
              "      <th>657</th>\n",
              "      <td>50</td>\n",
              "      <td>4</td>\n",
              "      <td>yes</td>\n",
              "      <td>4</td>\n",
              "      <td>no</td>\n",
              "      <td>35.67</td>\n",
              "      <td>25.694</td>\n",
              "      <td>37.269</td>\n",
              "    </tr>\n",
              "    <tr>\n",
              "      <th>658</th>\n",
              "      <td>88</td>\n",
              "      <td>2</td>\n",
              "      <td>no</td>\n",
              "      <td>2</td>\n",
              "      <td>no</td>\n",
              "      <td>22.49</td>\n",
              "      <td>6.210</td>\n",
              "      <td>25.460</td>\n",
              "    </tr>\n",
              "  </tbody>\n",
              "</table>\n",
              "<p>659 rows × 8 columns</p>\n",
              "</div>\n",
              "      <button class=\"colab-df-convert\" onclick=\"convertToInteractive('df-15c16c6c-7101-4821-b347-b9f5419049b3')\"\n",
              "              title=\"Convert this dataframe to an interactive table.\"\n",
              "              style=\"display:none;\">\n",
              "        \n",
              "  <svg xmlns=\"http://www.w3.org/2000/svg\" height=\"24px\"viewBox=\"0 0 24 24\"\n",
              "       width=\"24px\">\n",
              "    <path d=\"M0 0h24v24H0V0z\" fill=\"none\"/>\n",
              "    <path d=\"M18.56 5.44l.94 2.06.94-2.06 2.06-.94-2.06-.94-.94-2.06-.94 2.06-2.06.94zm-11 1L8.5 8.5l.94-2.06 2.06-.94-2.06-.94L8.5 2.5l-.94 2.06-2.06.94zm10 10l.94 2.06.94-2.06 2.06-.94-2.06-.94-.94-2.06-.94 2.06-2.06.94z\"/><path d=\"M17.41 7.96l-1.37-1.37c-.4-.4-.92-.59-1.43-.59-.52 0-1.04.2-1.43.59L10.3 9.45l-7.72 7.72c-.78.78-.78 2.05 0 2.83L4 21.41c.39.39.9.59 1.41.59.51 0 1.02-.2 1.41-.59l7.78-7.78 2.81-2.81c.8-.78.8-2.07 0-2.86zM5.41 20L4 18.59l7.72-7.72 1.47 1.35L5.41 20z\"/>\n",
              "  </svg>\n",
              "      </button>\n",
              "      \n",
              "  <style>\n",
              "    .colab-df-container {\n",
              "      display:flex;\n",
              "      flex-wrap:wrap;\n",
              "      gap: 12px;\n",
              "    }\n",
              "\n",
              "    .colab-df-convert {\n",
              "      background-color: #E8F0FE;\n",
              "      border: none;\n",
              "      border-radius: 50%;\n",
              "      cursor: pointer;\n",
              "      display: none;\n",
              "      fill: #1967D2;\n",
              "      height: 32px;\n",
              "      padding: 0 0 0 0;\n",
              "      width: 32px;\n",
              "    }\n",
              "\n",
              "    .colab-df-convert:hover {\n",
              "      background-color: #E2EBFA;\n",
              "      box-shadow: 0px 1px 2px rgba(60, 64, 67, 0.3), 0px 1px 3px 1px rgba(60, 64, 67, 0.15);\n",
              "      fill: #174EA6;\n",
              "    }\n",
              "\n",
              "    [theme=dark] .colab-df-convert {\n",
              "      background-color: #3B4455;\n",
              "      fill: #D2E3FC;\n",
              "    }\n",
              "\n",
              "    [theme=dark] .colab-df-convert:hover {\n",
              "      background-color: #434B5C;\n",
              "      box-shadow: 0px 1px 3px 1px rgba(0, 0, 0, 0.15);\n",
              "      filter: drop-shadow(0px 1px 2px rgba(0, 0, 0, 0.3));\n",
              "      fill: #FFFFFF;\n",
              "    }\n",
              "  </style>\n",
              "\n",
              "      <script>\n",
              "        const buttonEl =\n",
              "          document.querySelector('#df-15c16c6c-7101-4821-b347-b9f5419049b3 button.colab-df-convert');\n",
              "        buttonEl.style.display =\n",
              "          google.colab.kernel.accessAllowed ? 'block' : 'none';\n",
              "\n",
              "        async function convertToInteractive(key) {\n",
              "          const element = document.querySelector('#df-15c16c6c-7101-4821-b347-b9f5419049b3');\n",
              "          const dataTable =\n",
              "            await google.colab.kernel.invokeFunction('convertToInteractive',\n",
              "                                                     [key], {});\n",
              "          if (!dataTable) return;\n",
              "\n",
              "          const docLinkHtml = 'Like what you see? Visit the ' +\n",
              "            '<a target=\"_blank\" href=https://colab.research.google.com/notebooks/data_table.ipynb>data table notebook</a>'\n",
              "            + ' to learn more about interactive tables.';\n",
              "          element.innerHTML = '';\n",
              "          dataTable['output_type'] = 'display_data';\n",
              "          await google.colab.output.renderOutput(dataTable, element);\n",
              "          const docLink = document.createElement('div');\n",
              "          docLink.innerHTML = docLinkHtml;\n",
              "          element.appendChild(docLink);\n",
              "        }\n",
              "      </script>\n",
              "    </div>\n",
              "  </div>\n",
              "  "
            ]
          },
          "metadata": {},
          "execution_count": 40
        }
      ]
    },
    {
      "cell_type": "code",
      "source": [
        "df = df.replace({\"ski\":{\"yes\": 1,\"no\":0},\"userfee\":{\"yes\":1,\"no\":0}})"
      ],
      "metadata": {
        "id": "gnYF9VMfjjUY"
      },
      "execution_count": null,
      "outputs": []
    },
    {
      "cell_type": "code",
      "source": [
        "y = df[\"trips\"]\n",
        "x = df[[\"quality\",\"ski\",\"userfee\",\"income\",\"costC\",\"costS\",\"costH\"]]\n",
        "x = sm.add_constant(x)\n",
        "model = sm.OLS(y, x)\n",
        "reg = model.fit()\n",
        "reg.summary()"
      ],
      "metadata": {
        "colab": {
          "base_uri": "https://localhost:8080/",
          "height": 614
        },
        "id": "MO8EXZqCjnAQ",
        "outputId": "1c58cd48-936f-4d9f-c3b5-4364d1830368"
      },
      "execution_count": null,
      "outputs": [
        {
          "output_type": "stream",
          "name": "stderr",
          "text": [
            "/usr/local/lib/python3.7/dist-packages/statsmodels/tsa/tsatools.py:117: FutureWarning: In a future version of pandas all arguments of concat except for the argument 'objs' will be keyword-only\n",
            "  x = pd.concat(x[::order], 1)\n"
          ]
        },
        {
          "output_type": "execute_result",
          "data": {
            "text/plain": [
              "<class 'statsmodels.iolib.summary.Summary'>\n",
              "\"\"\"\n",
              "                            OLS Regression Results                            \n",
              "==============================================================================\n",
              "Dep. Variable:                  trips   R-squared:                       0.279\n",
              "Model:                            OLS   Adj. R-squared:                  0.271\n",
              "Method:                 Least Squares   F-statistic:                     36.02\n",
              "Date:                Fri, 22 Apr 2022   Prob (F-statistic):           1.29e-42\n",
              "Time:                        14:37:41   Log-Likelihood:                -2038.8\n",
              "No. Observations:                 659   AIC:                             4094.\n",
              "Df Residuals:                     651   BIC:                             4130.\n",
              "Df Model:                           7                                         \n",
              "Covariance Type:            nonrobust                                         \n",
              "==============================================================================\n",
              "                 coef    std err          t      P>|t|      [0.025      0.975]\n",
              "------------------------------------------------------------------------------\n",
              "const          2.5615      0.572      4.479      0.000       1.439       3.685\n",
              "quality        0.9134      0.125      7.305      0.000       0.668       1.159\n",
              "ski            0.9992      0.462      2.161      0.031       0.091       1.907\n",
              "userfee        8.2808      1.543      5.368      0.000       5.251      11.310\n",
              "income        -0.2071      0.119     -1.734      0.083      -0.442       0.027\n",
              "costC          0.0632      0.034      1.841      0.066      -0.004       0.131\n",
              "costS         -0.1645      0.023     -7.236      0.000      -0.209      -0.120\n",
              "costH          0.0895      0.028      3.177      0.002       0.034       0.145\n",
              "==============================================================================\n",
              "Omnibus:                      925.235   Durbin-Watson:                   0.378\n",
              "Prob(Omnibus):                  0.000   Jarque-Bera (JB):           238996.003\n",
              "Skew:                           7.395   Prob(JB):                         0.00\n",
              "Kurtosis:                      95.115   Cond. No.                         938.\n",
              "==============================================================================\n",
              "\n",
              "Warnings:\n",
              "[1] Standard Errors assume that the covariance matrix of the errors is correctly specified.\n",
              "\"\"\""
            ],
            "text/html": [
              "<table class=\"simpletable\">\n",
              "<caption>OLS Regression Results</caption>\n",
              "<tr>\n",
              "  <th>Dep. Variable:</th>          <td>trips</td>      <th>  R-squared:         </th> <td>   0.279</td>\n",
              "</tr>\n",
              "<tr>\n",
              "  <th>Model:</th>                   <td>OLS</td>       <th>  Adj. R-squared:    </th> <td>   0.271</td>\n",
              "</tr>\n",
              "<tr>\n",
              "  <th>Method:</th>             <td>Least Squares</td>  <th>  F-statistic:       </th> <td>   36.02</td>\n",
              "</tr>\n",
              "<tr>\n",
              "  <th>Date:</th>             <td>Fri, 22 Apr 2022</td> <th>  Prob (F-statistic):</th> <td>1.29e-42</td>\n",
              "</tr>\n",
              "<tr>\n",
              "  <th>Time:</th>                 <td>14:37:41</td>     <th>  Log-Likelihood:    </th> <td> -2038.8</td>\n",
              "</tr>\n",
              "<tr>\n",
              "  <th>No. Observations:</th>      <td>   659</td>      <th>  AIC:               </th> <td>   4094.</td>\n",
              "</tr>\n",
              "<tr>\n",
              "  <th>Df Residuals:</th>          <td>   651</td>      <th>  BIC:               </th> <td>   4130.</td>\n",
              "</tr>\n",
              "<tr>\n",
              "  <th>Df Model:</th>              <td>     7</td>      <th>                     </th>     <td> </td>   \n",
              "</tr>\n",
              "<tr>\n",
              "  <th>Covariance Type:</th>      <td>nonrobust</td>    <th>                     </th>     <td> </td>   \n",
              "</tr>\n",
              "</table>\n",
              "<table class=\"simpletable\">\n",
              "<tr>\n",
              "     <td></td>        <th>coef</th>     <th>std err</th>      <th>t</th>      <th>P>|t|</th>  <th>[0.025</th>    <th>0.975]</th>  \n",
              "</tr>\n",
              "<tr>\n",
              "  <th>const</th>   <td>    2.5615</td> <td>    0.572</td> <td>    4.479</td> <td> 0.000</td> <td>    1.439</td> <td>    3.685</td>\n",
              "</tr>\n",
              "<tr>\n",
              "  <th>quality</th> <td>    0.9134</td> <td>    0.125</td> <td>    7.305</td> <td> 0.000</td> <td>    0.668</td> <td>    1.159</td>\n",
              "</tr>\n",
              "<tr>\n",
              "  <th>ski</th>     <td>    0.9992</td> <td>    0.462</td> <td>    2.161</td> <td> 0.031</td> <td>    0.091</td> <td>    1.907</td>\n",
              "</tr>\n",
              "<tr>\n",
              "  <th>userfee</th> <td>    8.2808</td> <td>    1.543</td> <td>    5.368</td> <td> 0.000</td> <td>    5.251</td> <td>   11.310</td>\n",
              "</tr>\n",
              "<tr>\n",
              "  <th>income</th>  <td>   -0.2071</td> <td>    0.119</td> <td>   -1.734</td> <td> 0.083</td> <td>   -0.442</td> <td>    0.027</td>\n",
              "</tr>\n",
              "<tr>\n",
              "  <th>costC</th>   <td>    0.0632</td> <td>    0.034</td> <td>    1.841</td> <td> 0.066</td> <td>   -0.004</td> <td>    0.131</td>\n",
              "</tr>\n",
              "<tr>\n",
              "  <th>costS</th>   <td>   -0.1645</td> <td>    0.023</td> <td>   -7.236</td> <td> 0.000</td> <td>   -0.209</td> <td>   -0.120</td>\n",
              "</tr>\n",
              "<tr>\n",
              "  <th>costH</th>   <td>    0.0895</td> <td>    0.028</td> <td>    3.177</td> <td> 0.002</td> <td>    0.034</td> <td>    0.145</td>\n",
              "</tr>\n",
              "</table>\n",
              "<table class=\"simpletable\">\n",
              "<tr>\n",
              "  <th>Omnibus:</th>       <td>925.235</td> <th>  Durbin-Watson:     </th>  <td>   0.378</td> \n",
              "</tr>\n",
              "<tr>\n",
              "  <th>Prob(Omnibus):</th> <td> 0.000</td>  <th>  Jarque-Bera (JB):  </th> <td>238996.003</td>\n",
              "</tr>\n",
              "<tr>\n",
              "  <th>Skew:</th>          <td> 7.395</td>  <th>  Prob(JB):          </th>  <td>    0.00</td> \n",
              "</tr>\n",
              "<tr>\n",
              "  <th>Kurtosis:</th>      <td>95.115</td>  <th>  Cond. No.          </th>  <td>    938.</td> \n",
              "</tr>\n",
              "</table><br/><br/>Warnings:<br/>[1] Standard Errors assume that the covariance matrix of the errors is correctly specified."
            ]
          },
          "metadata": {},
          "execution_count": 42
        }
      ]
    },
    {
      "cell_type": "markdown",
      "source": [
        ""
      ],
      "metadata": {
        "id": "4j-r8F7Xnz9N"
      }
    },
    {
      "cell_type": "code",
      "source": [
        ""
      ],
      "metadata": {
        "id": "j3X3rrQBjqvQ"
      },
      "execution_count": null,
      "outputs": []
    },
    {
      "cell_type": "markdown",
      "source": [
        "**1**. Modelo de regresión lineal que explique el número de viajes a partir del resto de las variables encontradas en la base de datos adjunta.\n",
        "2. Conclusión sobre la significancia estadística de cada variable.\n",
        "3. Interpretación de los coeficientes.\n",
        "\n",
        "El diccionario de la base de datos es el siguiente:\n",
        "\n",
        "trips : número de viajes en bote realizados en el lago Somerville\n",
        "\n",
        "quality : percepción subjetiva de la calidad de 1 a 5\n",
        "\n",
        "ski factor: pregunta acerca de si el individuo hizo o no water-ski en el lago Somerville\n",
        "\n",
        "income: ingreso anual en miles de dólares \n",
        "\n",
        "userfee factor: pago de suscripción anual al lago \n",
        "\n",
        "costC: costo de visitar Lago Conroe (alternativa al lago Somerville) \n",
        "\n",
        "costS: costo de visitar Lago Somerville \n",
        "\n",
        "costH: costo de visitar Lago Houston (alternativa al lago Somerville) \n",
        "\n",
        "# Analisis"
      ],
      "metadata": {
        "id": "qNT3dJ_fnqCu"
      }
    },
    {
      "cell_type": "markdown",
      "source": [
        "##Analisis significancia\n",
        "Las variables significativas de este modelo son, quality, ski, userfee, costS, costH ya que el valor de su P>|t es inferior a 0.5**, caso contrario de las variables income y costC.\n",
        "\n",
        "En el caso de las variables que presentaron nivel de significancia menor a 0.5,se rechaza la hipotesis nula, este resultado tambien representa el riesgo de tener diferencias entre el modelo y la hipotesis.\n",
        "\n",
        "##Analisis coeficientes \n",
        "En el caso de los coeficientes dados por el modelo de regresion lineal, se puede evidenciar que solo hay dos valores que reducen la probabilidad de viajar, las cuales son el \"income\" (ingreso anual en miles de dolares)con un coeficiente de -0.2071 y la otra variable es \"costoS\" (costo de visitar lago somerville) con un coeficiente de -0.1645, esta variable de costosS al ser significante, se entiende que si influye en la probabilidad de viajar en la persona.las variables las cuales aumentan la probabilidad de viajar son quality, ski factor,userfee, costoC y costoH , sin embargo las variables \"income y costoC\"no tienen significancia es decir hay un riego alto de diferencia entre el modelo y la hipotesis.\n"
      ],
      "metadata": {
        "id": "vstadsdbmyLb"
      }
    },
    {
      "cell_type": "code",
      "source": [
        ""
      ],
      "metadata": {
        "id": "3Vg4pZkPnZ0Z"
      },
      "execution_count": null,
      "outputs": []
    }
  ]
}